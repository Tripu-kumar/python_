{
 "cells": [
  {
   "cell_type": "code",
   "execution_count": null,
   "id": "3731f9a3",
   "metadata": {},
   "outputs": [],
   "source": [
    "import pandas as pd\n",
    "import time\n",
    "import selenium\n",
    "from selenium import webdriver\n",
    "driverPath=r\"C:\\Users\\tripu\\Desktop\\chromedriver.exe\"\n",
    "driver = webdriver.Chrome(executable_path=driverPath)\n",
    "driver.get(\"https://www.amazon.in/s?k=water+bottle+offers+combo+6+bottles&i=kitchen&rh=n%3A976442031%2Cp_36%3A3444812031%2Cp_n_pct-off-with-tax%3A2665400031&dc&crid=3DMKONFZ6XZKP&qid=1630147990&rnid=2665398031&sprefix=water+bottle++offers%2Caps%2C310&ref=sr_pg_2\")\n",
    "time.sleep(2)\n",
    "writer = pd.ExcelWriter(r'C:\\Users\\tripu\\Desktop\\water_bottle.xlsx', engine='xlsxwriter')\n",
    "for j in range(10):\n",
    "    name=driver.find_elements_by_xpath(\"//span[contains(@class,'a-size-base-plus a-color-base a-text-normal')]\")\n",
    "    d1=[]\n",
    "    for i in name:\n",
    "        d1.append(i.text)\n",
    "    newprice=driver.find_elements_by_xpath(\"//span[contains(@class,'a-price-whole')]\")\n",
    "    d2=[]\n",
    "    for i in newprice:\n",
    "        d2.append(i.text)\n",
    "    oldprice=driver.find_elements_by_xpath(\"//span[contains(@class,'a-price a-text-price')]\")\n",
    "    d3=[]\n",
    "    for i in oldprice:\n",
    "        d3.append(i.text)\n",
    "    data=[]\n",
    "    data=zip(d1,d2,d3)\n",
    "    df=pd.DataFrame(list(data),columns=[\"Water_Bottle_Name\",\"New_Price\",\"Old_Price\"])\n",
    "    df.to_excel(writer,sheet_name= str(j),index=False)\n",
    "    df.drop(df.index, inplace=True)\n",
    "    driver.find_element_by_xpath(\"//a[contains(@class,'s-pagination-item s-pagination-next s-pagination-button')]\").click()\n",
    "    time.sleep(2)\n",
    "    driver.refresh()\n",
    "writer.save()\n",
    "writer.close()"
   ]
  }
 ],
 "metadata": {
  "kernelspec": {
   "display_name": "Python 3 (ipykernel)",
   "language": "python",
   "name": "python3"
  },
  "language_info": {
   "codemirror_mode": {
    "name": "ipython",
    "version": 3
   },
   "file_extension": ".py",
   "mimetype": "text/x-python",
   "name": "python",
   "nbconvert_exporter": "python",
   "pygments_lexer": "ipython3",
   "version": "3.9.5"
  }
 },
 "nbformat": 4,
 "nbformat_minor": 5
}
